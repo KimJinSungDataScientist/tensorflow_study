{
 "cells": [
  {
   "cell_type": "code",
   "execution_count": 1,
   "metadata": {},
   "outputs": [
    {
     "name": "stdout",
     "output_type": "stream",
     "text": [
      "2.4.0\n"
     ]
    }
   ],
   "source": [
    "import tensorflow as tf\n",
    "from tensorflow import keras\n",
    "\n",
    "import numpy as np\n",
    "\n",
    "print(tf.__version__)"
   ]
  },
  {
   "cell_type": "code",
   "execution_count": 2,
   "metadata": {},
   "outputs": [
    {
     "name": "stderr",
     "output_type": "stream",
     "text": [
      "<__array_function__ internals>:5: VisibleDeprecationWarning: Creating an ndarray from ragged nested sequences (which is a list-or-tuple of lists-or-tuples-or ndarrays with different lengths or shapes) is deprecated. If you meant to do this, you must specify 'dtype=object' when creating the ndarray\n",
      "/Users/kimjinsung/opt/anaconda3/lib/python3.8/site-packages/tensorflow/python/keras/datasets/imdb.py:159: VisibleDeprecationWarning: Creating an ndarray from ragged nested sequences (which is a list-or-tuple of lists-or-tuples-or ndarrays with different lengths or shapes) is deprecated. If you meant to do this, you must specify 'dtype=object' when creating the ndarray\n",
      "  x_train, y_train = np.array(xs[:idx]), np.array(labels[:idx])\n",
      "/Users/kimjinsung/opt/anaconda3/lib/python3.8/site-packages/tensorflow/python/keras/datasets/imdb.py:160: VisibleDeprecationWarning: Creating an ndarray from ragged nested sequences (which is a list-or-tuple of lists-or-tuples-or ndarrays with different lengths or shapes) is deprecated. If you meant to do this, you must specify 'dtype=object' when creating the ndarray\n",
      "  x_test, y_test = np.array(xs[idx:]), np.array(labels[idx:])\n"
     ]
    }
   ],
   "source": [
    "imdb = keras.datasets.imdb\n",
    "\n",
    "(train_data, train_labels), (test_data, test_labels) = imdb.load_data(num_words=10000)"
   ]
  },
  {
   "cell_type": "code",
   "execution_count": 3,
   "metadata": {},
   "outputs": [
    {
     "name": "stdout",
     "output_type": "stream",
     "text": [
      "훈련 샘플: 25000, 레이블25000\n"
     ]
    }
   ],
   "source": [
    "print(\"훈련 샘플: {}, 레이블{}\".format(len(train_data),len(train_labels)))"
   ]
  },
  {
   "cell_type": "code",
   "execution_count": 4,
   "metadata": {},
   "outputs": [
    {
     "name": "stdout",
     "output_type": "stream",
     "text": [
      "[1, 14, 22, 16, 43, 530, 973, 1622, 1385, 65, 458, 4468, 66, 3941, 4, 173, 36, 256, 5, 25, 100, 43, 838, 112, 50, 670, 2, 9, 35, 480, 284, 5, 150, 4, 172, 112, 167, 2, 336, 385, 39, 4, 172, 4536, 1111, 17, 546, 38, 13, 447, 4, 192, 50, 16, 6, 147, 2025, 19, 14, 22, 4, 1920, 4613, 469, 4, 22, 71, 87, 12, 16, 43, 530, 38, 76, 15, 13, 1247, 4, 22, 17, 515, 17, 12, 16, 626, 18, 2, 5, 62, 386, 12, 8, 316, 8, 106, 5, 4, 2223, 5244, 16, 480, 66, 3785, 33, 4, 130, 12, 16, 38, 619, 5, 25, 124, 51, 36, 135, 48, 25, 1415, 33, 6, 22, 12, 215, 28, 77, 52, 5, 14, 407, 16, 82, 2, 8, 4, 107, 117, 5952, 15, 256, 4, 2, 7, 3766, 5, 723, 36, 71, 43, 530, 476, 26, 400, 317, 46, 7, 4, 2, 1029, 13, 104, 88, 4, 381, 15, 297, 98, 32, 2071, 56, 26, 141, 6, 194, 7486, 18, 4, 226, 22, 21, 134, 476, 26, 480, 5, 144, 30, 5535, 18, 51, 36, 28, 224, 92, 25, 104, 4, 226, 65, 16, 38, 1334, 88, 12, 16, 283, 5, 16, 4472, 113, 103, 32, 15, 16, 5345, 19, 178, 32]\n"
     ]
    }
   ],
   "source": [
    "print(train_data[0])"
   ]
  },
  {
   "cell_type": "code",
   "execution_count": 5,
   "metadata": {},
   "outputs": [
    {
     "data": {
      "text/plain": [
       "(218, 189)"
      ]
     },
     "execution_count": 5,
     "metadata": {},
     "output_type": "execute_result"
    }
   ],
   "source": [
    "len(train_data[0]), len(train_data[1])"
   ]
  },
  {
   "cell_type": "code",
   "execution_count": 6,
   "metadata": {},
   "outputs": [
    {
     "ename": "KeyError",
     "evalue": "3",
     "output_type": "error",
     "traceback": [
      "\u001b[0;31m---------------------------------------------------------------------------\u001b[0m",
      "\u001b[0;31mKeyError\u001b[0m                                  Traceback (most recent call last)",
      "\u001b[0;32m<ipython-input-6-ae38ee34580e>\u001b[0m in \u001b[0;36m<module>\u001b[0;34m\u001b[0m\n\u001b[1;32m     15\u001b[0m \u001b[0;31m# 정수로 단어를 매핑해 주기 위해서?\u001b[0m\u001b[0;34m\u001b[0m\u001b[0;34m\u001b[0m\u001b[0;34m\u001b[0m\u001b[0m\n\u001b[1;32m     16\u001b[0m \u001b[0;31m# {<PAD> : 0} -> {0 : <PAD>}\u001b[0m\u001b[0;34m\u001b[0m\u001b[0;34m\u001b[0m\u001b[0;34m\u001b[0m\u001b[0m\n\u001b[0;32m---> 17\u001b[0;31m \u001b[0mprint\u001b[0m\u001b[0;34m(\u001b[0m\u001b[0mword_index\u001b[0m\u001b[0;34m[\u001b[0m\u001b[0;36m3\u001b[0m\u001b[0;34m]\u001b[0m\u001b[0;34m)\u001b[0m\u001b[0;34m\u001b[0m\u001b[0;34m\u001b[0m\u001b[0m\n\u001b[0m\u001b[1;32m     18\u001b[0m \u001b[0;34m\u001b[0m\u001b[0m\n\u001b[1;32m     19\u001b[0m \u001b[0;32mdef\u001b[0m \u001b[0mdecode_review\u001b[0m\u001b[0;34m(\u001b[0m\u001b[0mtext\u001b[0m\u001b[0;34m)\u001b[0m\u001b[0;34m:\u001b[0m\u001b[0;34m\u001b[0m\u001b[0;34m\u001b[0m\u001b[0m\n",
      "\u001b[0;31mKeyError\u001b[0m: 3"
     ]
    }
   ],
   "source": [
    "# 단어와 정수 인덱스를 매핑한 딕셔너리\n",
    "word_index = imdb.get_word_index()\n",
    "\n",
    "# 처음 몇 개 인덱스는 사전에 정의되어 있습니다\n",
    "# 4개 단어 추가하느라, 나머지 뒤로 밀어주는 작업\n",
    "word_index = {k:(v+3) for k,v in word_index.items()}\n",
    "word_index[\"<PAD>\"] = 0\n",
    "word_index[\"<START>\"] = 1\n",
    "word_index[\"<UNK>\"] = 2  # unknown\n",
    "word_index[\"<UNUSED>\"] = 3\n",
    "\n",
    "\n",
    "reverse_word_index = dict([(value, key) for (key, value) in word_index.items()])\n",
    "# 키, 벨류를 reverse 하는 이유는,\n",
    "# 정수로 단어를 매핑해 주기 위해서?\n",
    "# {<PAD> : 0} -> {0 : <PAD>}\n",
    "print(word_index[3])\n",
    "\n",
    "def decode_review(text):\n",
    "    return ' '.join([reverse_word_index.get(i, '?') for i in text])\n",
    "# 해당 수에대한 단어를 찾지 못하는 경우 두번째 파라미터인 '?' 반환하는듯"
   ]
  },
  {
   "cell_type": "code",
   "execution_count": 8,
   "metadata": {},
   "outputs": [
    {
     "data": {
      "text/plain": [
       "\"<START> this film was just brilliant casting location scenery story direction everyone's really suited the part they played and you could just imagine being there robert <UNK> is an amazing actor and now the same being director <UNK> father came from the same scottish island as myself so i loved the fact there was a real connection with this film the witty remarks throughout the film were great it was just brilliant so much that i bought the film as soon as it was released for <UNK> and would recommend it to everyone to watch and the fly fishing was amazing really cried at the end it was so sad and you know what they say if you cry at a film it must have been good and this definitely was also <UNK> to the two little boy's that played the <UNK> of norman and paul they were just brilliant children are often left out of the <UNK> list i think because the stars that play them all grown up are such a big profile for the whole film but these children are amazing and should be praised for what they have done don't you think the whole story was so lovely because it was true and was someone's life after all that was shared with us all\""
      ]
     },
     "execution_count": 8,
     "metadata": {},
     "output_type": "execute_result"
    }
   ],
   "source": [
    "decode_review(train_data[0])"
   ]
  },
  {
   "cell_type": "code",
   "execution_count": null,
   "metadata": {},
   "outputs": [],
   "source": []
  },
  {
   "cell_type": "markdown",
   "metadata": {},
   "source": [
    "원-핫 인코딩(one-hot encoding)은 정수 배열을 0과 1로 이루어진 벡터로 변환합니다. 예를 들어 배열 [3, 5]을 인덱스 3과 5만 1이고 나머지는 모두 0인 10,000차원 벡터로 변환할 수 있습니다. 그다음 실수 벡터 데이터를 다룰 수 있는 층-Dense 층-을 신경망의 첫 번째 층으로 사용합니다. 이 방법은 num_words * num_reviews 크기의 행렬이 필요하기 때문에 메모리를 많이 사용합니다.\n",
    "\n",
    "\n",
    "다른 방법으로는, 정수 배열의 길이가 모두 같도록 패딩(padding)을 추가해 max_length * num_reviews 크기의 정수 텐서를 만듭니다. 이런 형태의 텐서를 다룰 수 있는 임베딩(embedding) 층을 신경망의 첫 번째 층으로 사용할 수 있습니다."
   ]
  },
  {
   "cell_type": "code",
   "execution_count": null,
   "metadata": {},
   "outputs": [],
   "source": []
  },
  {
   "cell_type": "code",
   "execution_count": 9,
   "metadata": {},
   "outputs": [],
   "source": [
    "train_data = keras.preprocessing.sequence.pad_sequences(train_data,\n",
    "                                                        value=word_index[\"<PAD>\"],\n",
    "                                                        padding='post',\n",
    "                                                        maxlen=256)\n",
    "# 빈 공간을 word_index[\"<PAD>\"] == 0 의 value로 설정\n",
    "# post를 사용해 원래 있는 데이터는 왼쪽으로 밀고, 오른쪽에 빈공간을 value로 채움\n",
    "\n",
    "test_data = keras.preprocessing.sequence.pad_sequences(test_data,\n",
    "                                                       value=word_index[\"<PAD>\"],\n",
    "                                                       padding='post',\n",
    "                                                       maxlen=256)"
   ]
  },
  {
   "cell_type": "code",
   "execution_count": 10,
   "metadata": {},
   "outputs": [
    {
     "data": {
      "text/plain": [
       "(256, 256)"
      ]
     },
     "execution_count": 10,
     "metadata": {},
     "output_type": "execute_result"
    }
   ],
   "source": [
    "len(train_data[0]), len(train_data[1])"
   ]
  },
  {
   "cell_type": "code",
   "execution_count": 11,
   "metadata": {},
   "outputs": [
    {
     "name": "stdout",
     "output_type": "stream",
     "text": [
      "[   1   14   22   16   43  530  973 1622 1385   65  458 4468   66 3941\n",
      "    4  173   36  256    5   25  100   43  838  112   50  670    2    9\n",
      "   35  480  284    5  150    4  172  112  167    2  336  385   39    4\n",
      "  172 4536 1111   17  546   38   13  447    4  192   50   16    6  147\n",
      " 2025   19   14   22    4 1920 4613  469    4   22   71   87   12   16\n",
      "   43  530   38   76   15   13 1247    4   22   17  515   17   12   16\n",
      "  626   18    2    5   62  386   12    8  316    8  106    5    4 2223\n",
      " 5244   16  480   66 3785   33    4  130   12   16   38  619    5   25\n",
      "  124   51   36  135   48   25 1415   33    6   22   12  215   28   77\n",
      "   52    5   14  407   16   82    2    8    4  107  117 5952   15  256\n",
      "    4    2    7 3766    5  723   36   71   43  530  476   26  400  317\n",
      "   46    7    4    2 1029   13  104   88    4  381   15  297   98   32\n",
      " 2071   56   26  141    6  194 7486   18    4  226   22   21  134  476\n",
      "   26  480    5  144   30 5535   18   51   36   28  224   92   25  104\n",
      "    4  226   65   16   38 1334   88   12   16  283    5   16 4472  113\n",
      "  103   32   15   16 5345   19  178   32    0    0    0    0    0    0\n",
      "    0    0    0    0    0    0    0    0    0    0    0    0    0    0\n",
      "    0    0    0    0    0    0    0    0    0    0    0    0    0    0\n",
      "    0    0    0    0]\n"
     ]
    }
   ],
   "source": [
    "print(train_data[0])"
   ]
  },
  {
   "cell_type": "code",
   "execution_count": 12,
   "metadata": {},
   "outputs": [
    {
     "name": "stdout",
     "output_type": "stream",
     "text": [
      "Model: \"sequential\"\n",
      "_________________________________________________________________\n",
      "Layer (type)                 Output Shape              Param #   \n",
      "=================================================================\n",
      "embedding (Embedding)        (None, None, 16)          160000    \n",
      "_________________________________________________________________\n",
      "global_average_pooling1d (Gl (None, 16)                0         \n",
      "_________________________________________________________________\n",
      "dense (Dense)                (None, 16)                272       \n",
      "_________________________________________________________________\n",
      "dense_1 (Dense)              (None, 1)                 17        \n",
      "=================================================================\n",
      "Total params: 160,289\n",
      "Trainable params: 160,289\n",
      "Non-trainable params: 0\n",
      "_________________________________________________________________\n"
     ]
    }
   ],
   "source": [
    "# 입력 크기는 영화 리뷰 데이터셋에 적용된 어휘 사전의 크기입니다(10,000개의 단어)\n",
    "vocab_size = 10000\n",
    "\n",
    "model = keras.Sequential()#순차모델\n",
    "#숫자하나를 output_dim크기의 dense_vector로 만듬 input, ouput, \n",
    "model.add(keras.layers.Embedding(vocab_size, 16, input_shape=(None,)))\n",
    "# (25000,256,16)\n",
    "model.add(keras.layers.GlobalAveragePooling1D())\n",
    "# (25000,16) , 두번째 파라미터인 단어 256개의 평균을 구해서 집어넣음\n",
    "model.add(keras.layers.Dense(16, activation='relu'))\n",
    "# 크기가 16인 벡터\n",
    "model.add(keras.layers.Dense(1, activation='sigmoid'))\n",
    "# 시그모이드를 사용해 0~1사이 확률 결정\n",
    "model.summary()"
   ]
  },
  {
   "cell_type": "code",
   "execution_count": 13,
   "metadata": {},
   "outputs": [],
   "source": [
    "model.compile(optimizer='adam', # RMSProp + Momentum 방향도 스텝사이즈도 적절하게\n",
    "              loss='binary_crossentropy', # 이항 교차 엔트로피(2개중 판단)\n",
    "              metrics=['accuracy'])"
   ]
  },
  {
   "cell_type": "code",
   "execution_count": 14,
   "metadata": {},
   "outputs": [],
   "source": [
    "x_val = train_data[:10000]\n",
    "partial_x_train = train_data[10000:]\n",
    "\n",
    "y_val = train_labels[:10000]\n",
    "partial_y_train = train_labels[10000:]"
   ]
  },
  {
   "cell_type": "code",
   "execution_count": 15,
   "metadata": {},
   "outputs": [
    {
     "name": "stdout",
     "output_type": "stream",
     "text": [
      "Epoch 1/40\n",
      "30/30 [==============================] - 1s 20ms/step - loss: 0.6929 - accuracy: 0.5142 - val_loss: 0.6913 - val_accuracy: 0.5878\n",
      "Epoch 2/40\n",
      "30/30 [==============================] - 0s 12ms/step - loss: 0.6896 - accuracy: 0.6404 - val_loss: 0.6841 - val_accuracy: 0.6797\n",
      "Epoch 3/40\n",
      "30/30 [==============================] - 0s 8ms/step - loss: 0.6796 - accuracy: 0.7171 - val_loss: 0.6682 - val_accuracy: 0.7463\n",
      "Epoch 4/40\n",
      "30/30 [==============================] - 0s 8ms/step - loss: 0.6596 - accuracy: 0.7328 - val_loss: 0.6415 - val_accuracy: 0.7637\n",
      "Epoch 5/40\n",
      "30/30 [==============================] - 0s 8ms/step - loss: 0.6268 - accuracy: 0.7824 - val_loss: 0.6039 - val_accuracy: 0.7852\n",
      "Epoch 6/40\n",
      "30/30 [==============================] - 0s 8ms/step - loss: 0.5843 - accuracy: 0.8053 - val_loss: 0.5600 - val_accuracy: 0.8026\n",
      "Epoch 7/40\n",
      "30/30 [==============================] - 0s 8ms/step - loss: 0.5356 - accuracy: 0.8265 - val_loss: 0.5141 - val_accuracy: 0.8224\n",
      "Epoch 8/40\n",
      "30/30 [==============================] - 0s 8ms/step - loss: 0.4817 - accuracy: 0.8507 - val_loss: 0.4709 - val_accuracy: 0.8391\n",
      "Epoch 9/40\n",
      "30/30 [==============================] - 0s 8ms/step - loss: 0.4376 - accuracy: 0.8631 - val_loss: 0.4337 - val_accuracy: 0.8471\n",
      "Epoch 10/40\n",
      "30/30 [==============================] - 0s 8ms/step - loss: 0.3972 - accuracy: 0.8732 - val_loss: 0.4039 - val_accuracy: 0.8543\n",
      "Epoch 11/40\n",
      "30/30 [==============================] - 0s 8ms/step - loss: 0.3599 - accuracy: 0.8877 - val_loss: 0.3785 - val_accuracy: 0.8615\n",
      "Epoch 12/40\n",
      "30/30 [==============================] - 0s 8ms/step - loss: 0.3348 - accuracy: 0.8897 - val_loss: 0.3585 - val_accuracy: 0.8668\n",
      "Epoch 13/40\n",
      "30/30 [==============================] - 0s 8ms/step - loss: 0.3130 - accuracy: 0.8931 - val_loss: 0.3430 - val_accuracy: 0.8703\n",
      "Epoch 14/40\n",
      "30/30 [==============================] - 0s 8ms/step - loss: 0.2926 - accuracy: 0.9010 - val_loss: 0.3305 - val_accuracy: 0.8721\n",
      "Epoch 15/40\n",
      "30/30 [==============================] - 0s 8ms/step - loss: 0.2713 - accuracy: 0.9069 - val_loss: 0.3200 - val_accuracy: 0.8755\n",
      "Epoch 16/40\n",
      "30/30 [==============================] - 0s 8ms/step - loss: 0.2569 - accuracy: 0.9113 - val_loss: 0.3120 - val_accuracy: 0.8773\n",
      "Epoch 17/40\n",
      "30/30 [==============================] - 0s 8ms/step - loss: 0.2405 - accuracy: 0.9188 - val_loss: 0.3058 - val_accuracy: 0.8773\n",
      "Epoch 18/40\n",
      "30/30 [==============================] - 0s 8ms/step - loss: 0.2306 - accuracy: 0.9207 - val_loss: 0.3003 - val_accuracy: 0.8797\n",
      "Epoch 19/40\n",
      "30/30 [==============================] - 0s 8ms/step - loss: 0.2156 - accuracy: 0.9262 - val_loss: 0.2948 - val_accuracy: 0.8824\n",
      "Epoch 20/40\n",
      "30/30 [==============================] - 0s 8ms/step - loss: 0.2020 - accuracy: 0.9333 - val_loss: 0.2914 - val_accuracy: 0.8831\n",
      "Epoch 21/40\n",
      "30/30 [==============================] - 0s 8ms/step - loss: 0.1978 - accuracy: 0.9337 - val_loss: 0.2893 - val_accuracy: 0.8833\n",
      "Epoch 22/40\n",
      "30/30 [==============================] - 0s 8ms/step - loss: 0.1826 - accuracy: 0.9431 - val_loss: 0.2879 - val_accuracy: 0.8844\n",
      "Epoch 23/40\n",
      "30/30 [==============================] - 0s 8ms/step - loss: 0.1760 - accuracy: 0.9449 - val_loss: 0.2853 - val_accuracy: 0.8854\n",
      "Epoch 24/40\n",
      "30/30 [==============================] - 0s 8ms/step - loss: 0.1685 - accuracy: 0.9457 - val_loss: 0.2844 - val_accuracy: 0.8859\n",
      "Epoch 25/40\n",
      "30/30 [==============================] - 0s 8ms/step - loss: 0.1619 - accuracy: 0.9512 - val_loss: 0.2849 - val_accuracy: 0.8843\n",
      "Epoch 26/40\n",
      "30/30 [==============================] - 0s 8ms/step - loss: 0.1596 - accuracy: 0.9514 - val_loss: 0.2844 - val_accuracy: 0.8846\n",
      "Epoch 27/40\n",
      "30/30 [==============================] - 0s 8ms/step - loss: 0.1511 - accuracy: 0.9540 - val_loss: 0.2846 - val_accuracy: 0.8861\n",
      "Epoch 28/40\n",
      "30/30 [==============================] - 0s 8ms/step - loss: 0.1377 - accuracy: 0.9595 - val_loss: 0.2859 - val_accuracy: 0.8865\n",
      "Epoch 29/40\n",
      "30/30 [==============================] - 0s 8ms/step - loss: 0.1356 - accuracy: 0.9599 - val_loss: 0.2868 - val_accuracy: 0.8853\n",
      "Epoch 30/40\n",
      "30/30 [==============================] - 0s 8ms/step - loss: 0.1289 - accuracy: 0.9642 - val_loss: 0.2892 - val_accuracy: 0.8842\n",
      "Epoch 31/40\n",
      "30/30 [==============================] - 0s 8ms/step - loss: 0.1291 - accuracy: 0.9629 - val_loss: 0.2905 - val_accuracy: 0.8835\n",
      "Epoch 32/40\n",
      "30/30 [==============================] - 0s 8ms/step - loss: 0.1240 - accuracy: 0.9645 - val_loss: 0.2920 - val_accuracy: 0.8865\n",
      "Epoch 33/40\n",
      "30/30 [==============================] - 0s 8ms/step - loss: 0.1141 - accuracy: 0.9688 - val_loss: 0.2947 - val_accuracy: 0.8839\n",
      "Epoch 34/40\n",
      "30/30 [==============================] - 0s 8ms/step - loss: 0.1060 - accuracy: 0.9716 - val_loss: 0.2979 - val_accuracy: 0.8830\n",
      "Epoch 35/40\n",
      "30/30 [==============================] - 0s 8ms/step - loss: 0.1071 - accuracy: 0.9709 - val_loss: 0.2988 - val_accuracy: 0.8853\n",
      "Epoch 36/40\n",
      "30/30 [==============================] - 0s 8ms/step - loss: 0.1025 - accuracy: 0.9743 - val_loss: 0.3021 - val_accuracy: 0.8855\n",
      "Epoch 37/40\n",
      "30/30 [==============================] - 0s 8ms/step - loss: 0.0976 - accuracy: 0.9736 - val_loss: 0.3058 - val_accuracy: 0.8842\n",
      "Epoch 38/40\n",
      "30/30 [==============================] - 0s 8ms/step - loss: 0.0975 - accuracy: 0.9741 - val_loss: 0.3101 - val_accuracy: 0.8820\n",
      "Epoch 39/40\n",
      "30/30 [==============================] - 0s 8ms/step - loss: 0.0895 - accuracy: 0.9779 - val_loss: 0.3114 - val_accuracy: 0.8834\n",
      "Epoch 40/40\n",
      "30/30 [==============================] - 0s 8ms/step - loss: 0.0858 - accuracy: 0.9786 - val_loss: 0.3147 - val_accuracy: 0.8834\n"
     ]
    }
   ],
   "source": [
    "history = model.fit(partial_x_train,\n",
    "                    partial_y_train,\n",
    "                    epochs=40,\n",
    "                    batch_size=512,\n",
    "                    validation_data=(x_val, y_val),\n",
    "                    verbose=1)"
   ]
  },
  {
   "cell_type": "code",
   "execution_count": 16,
   "metadata": {},
   "outputs": [
    {
     "name": "stdout",
     "output_type": "stream",
     "text": [
      "782/782 - 0s - loss: 0.3367 - accuracy: 0.8715\n",
      "[0.3366641402244568, 0.8715199828147888]\n"
     ]
    }
   ],
   "source": [
    "results = model.evaluate(test_data,  test_labels, verbose=2)\n",
    "\n",
    "# verbose = 학습 중 출력되는 문구를 설정합니다.\n",
    "# - 0 : 아무 것도 출력하지 않습니다.\n",
    "# - 1 : 훈련의 진행도를 보여주는 진행 막대를 보여줍니다.\n",
    "# - 2 : 미니 배치마다 손실 정보를 출력합니다.\n",
    "\n",
    "print(results)"
   ]
  },
  {
   "cell_type": "code",
   "execution_count": 17,
   "metadata": {},
   "outputs": [
    {
     "data": {
      "text/plain": [
       "dict_keys(['loss', 'accuracy', 'val_loss', 'val_accuracy'])"
      ]
     },
     "execution_count": 17,
     "metadata": {},
     "output_type": "execute_result"
    }
   ],
   "source": [
    "history_dict = history.history\n",
    "history_dict.keys()"
   ]
  },
  {
   "cell_type": "code",
   "execution_count": 18,
   "metadata": {},
   "outputs": [
    {
     "data": {
      "image/png": "[encoded data removed]",
      "text/plain": [
       "<Figure size 432x288 with 1 Axes>"
      ]
     },
     "metadata": {
      "needs_background": "light"
     },
     "output_type": "display_data"
    }
   ],
   "source": [
    "import matplotlib.pyplot as plt\n",
    "\n",
    "acc = history_dict['accuracy']\n",
    "val_acc = history_dict['val_accuracy']\n",
    "loss = history_dict['loss']\n",
    "val_loss = history_dict['val_loss']\n",
    "\n",
    "epochs = range(1, len(acc) + 1)\n",
    "\n",
    "# \"bo\"는 \"파란색 점\"입니다\n",
    "plt.plot(epochs, loss, 'bo', label='Training loss')\n",
    "# b는 \"파란 실선\"입니다\n",
    "plt.plot(epochs, val_loss, 'b', label='Validation loss')\n",
    "plt.title('Training and validation loss')\n",
    "plt.xlabel('Epochs')\n",
    "plt.ylabel('Loss')\n",
    "plt.legend()\n",
    "\n",
    "plt.show()"
   ]
  },
  {
   "cell_type": "code",
   "execution_count": 19,
   "metadata": {},
   "outputs": [
    {
     "data": {
      "image/png": "[encoded data removed]",
      "text/plain": [
       "<Figure size 432x288 with 1 Axes>"
      ]
     },
     "metadata": {
      "needs_background": "light"
     },
     "output_type": "display_data"
    }
   ],
   "source": [
    "plt.clf()   # 그림을 초기화합니다\n",
    "\n",
    "plt.plot(epochs, acc, 'bo', label='Training acc')\n",
    "plt.plot(epochs, val_acc, 'b', label='Validation acc')\n",
    "plt.title('Training and validation accuracy')\n",
    "plt.xlabel('Epochs')\n",
    "plt.ylabel('Accuracy')\n",
    "plt.legend()\n",
    "\n",
    "plt.show()"
   ]
  },
  {
   "cell_type": "code",
   "execution_count": null,
   "metadata": {},
   "outputs": [],
   "source": []
  }
 ],
 "metadata": {
  "kernelspec": {
   "display_name": "Python 3",
   "language": "python",
   "name": "python3"
  },
  "language_info": {
   "codemirror_mode": {
    "name": "ipython",
    "version": 3
   },
   "file_extension": ".py",
   "mimetype": "text/x-python",
   "name": "python",
   "nbconvert_exporter": "python",
   "pygments_lexer": "ipython3",
   "version": "3.8.3"
  }
 },
 "nbformat": 4,
 "nbformat_minor": 4
}
